{
 "cells": [
  {
   "cell_type": "markdown",
   "id": "c21d4c7f",
   "metadata": {},
   "source": [
    "### Notre code met en place un système de recommandation de films basé sur le contenu en utilisant : ✔ TF-IDF pour transformer le texte en vecteurs numériques ✔ KNN (K-Nearest Neighbors) pour trouver les films les plus similaires"
   ]
  },
  {
   "cell_type": "code",
   "execution_count": 4,
   "id": "3d661a66",
   "metadata": {},
   "outputs": [],
   "source": [
    "import pandas as pd\n",
    "from sklearn.feature_extraction.text import TfidfVectorizer\n",
    "from sklearn.neighbors import NearestNeighbors\n",
    "from sklearn.metrics.pairwise import cosine_similarity\n",
    "import nltk\n",
    "import ast\n",
    "import warnings  "
   ]
  }
 ],
 "metadata": {
  "kernelspec": {
   "display_name": "Python 3",
   "language": "python",
   "name": "python3"
  },
  "language_info": {
   "codemirror_mode": {
    "name": "ipython",
    "version": 3
   },
   "file_extension": ".py",
   "mimetype": "text/x-python",
   "name": "python",
   "nbconvert_exporter": "python",
   "pygments_lexer": "ipython3",
   "version": "3.11.5"
  }
 },
 "nbformat": 4,
 "nbformat_minor": 5
}
