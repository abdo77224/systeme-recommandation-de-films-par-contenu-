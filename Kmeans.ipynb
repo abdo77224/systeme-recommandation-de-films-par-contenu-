{
 "cells": [
  {
   "cell_type": "code",
   "execution_count": 1,
   "id": "5d3a3198",
   "metadata": {},
   "outputs": [],
   "source": [
    "import pandas as pd\n",
    "import numpy as np\n",
    "from sentence_transformers import SentenceTransformer\n",
    "from sklearn.cluster import KMeans\n",
    "from sklearn.metrics.pairwise import cosine_similarity\n",
    "from sklearn.preprocessing import StandardScaler, MultiLabelBinarizer\n",
    "import os\n",
    "\n",
    "# 1️⃣ Vérifier et charger le dataset\n",
    "file_path = \"movie_data_cleaned.csv\"\n",
    "if not os.path.exists(file_path):\n",
    "    print(f\"❌ Erreur : Le fichier '{file_path}' n'existe pas !\")\n",
    "    exit()\n",
    "\n",
    "df = pd.read_csv(file_path)\n",
    "df.fillna(\"\", inplace=True)\n"
   ]
  },
  {
   "cell_type": "code",
   "execution_count": 2,
   "id": "0d879875",
   "metadata": {},
   "outputs": [],
   "source": [
    "# 2️⃣ Vérifier les colonnes nécessaires\n",
    "columns_needed = [\"title\", \"genres\", \"overview\", \"popularity\", \"vote_average\", \"runtime\", \"keywords\", \"cast\"]\n",
    "missing_columns = [col for col in columns_needed if col not in df.columns]\n",
    "if missing_columns:\n",
    "    print(f\"❌ Erreur : Colonnes manquantes dans le dataset: {missing_columns}\")\n",
    "    exit()\n",
    "\n",
    "df = df[columns_needed]"
   ]
  },
  {
   "cell_type": "code",
   "execution_count": 3,
   "id": "bbe87ae4",
   "metadata": {},
   "outputs": [],
   "source": [
    "from sklearn.preprocessing import MultiLabelBinarizer\n",
    "\n",
    "mlb = MultiLabelBinarizer()\n",
    "df[\"genres_list\"] = df[\"genres\"].apply(lambda x: x.split(\",\") if isinstance(x, str) else [])\n",
    "df_genres = pd.DataFrame(mlb.fit_transform(df[\"genres_list\"]), columns=mlb.classes_)\n",
    "df = pd.concat([df, df_genres], axis=1)  # Fusionner les genres binaires avec le dataset\n"
   ]
  },
  {
   "cell_type": "code",
   "execution_count": 4,
   "id": "3f8eff49",
   "metadata": {},
   "outputs": [],
   "source": [
    " #3️⃣ Transformer les genres en variables binaires\n",
    "mlb = MultiLabelBinarizer()\n",
    "df[\"genres_list\"] = df[\"genres\"].apply(lambda x: x.split(\",\") if isinstance(x, str) else [])\n",
    "df_genres = pd.DataFrame(mlb.fit_transform(df[\"genres_list\"]), columns=mlb.classes_)\n",
    "df = pd.concat([df, df_genres], axis=1)"
   ]
  },
  {
   "cell_type": "code",
   "execution_count": 5,
   "id": "3ac3d627",
   "metadata": {},
   "outputs": [],
   "source": [
    "# 4️⃣ Transformer le texte en embeddings avec gestion des erreurs\n",
    "model = SentenceTransformer('all-MiniLM-L6-v2')\n",
    "df[\"text_embedding\"] = df.apply(lambda row: model.encode(row[\"overview\"] + \" \" + row[\"keywords\"] + \" \" + row[\"cast\"]) if row[\"overview\"] else np.zeros(384), axis=1)\n",
    "\n"
   ]
  },
  {
   "cell_type": "code",
   "execution_count": 6,
   "id": "2fb33ece",
   "metadata": {},
   "outputs": [],
   "source": [
    "# 5️⃣ Standardiser les colonnes numériques\n",
    "scaler = StandardScaler()\n",
    "df[[\"popularity\", \"vote_average\", \"runtime\"]] = scaler.fit_transform(df[[\"popularity\", \"vote_average\", \"runtime\"]])\n"
   ]
  },
  {
   "cell_type": "code",
   "execution_count": 7,
   "id": "08a44453",
   "metadata": {},
   "outputs": [
    {
     "name": "stdout",
     "output_type": "stream",
     "text": [
      "Colonnes des genres binaires :\n",
      "    Action   Adventure   Animation   Comedy   Crime   Documentary   Drama  \\\n",
      "0        0           0           0        1       0             0       0   \n",
      "1        0           0           0        0       0             0       0   \n",
      "2        0           0           0        1       0             0       0   \n",
      "3        0           0           0        0       0             0       1   \n",
      "4        0           0           0        0       0             0       0   \n",
      "\n",
      "    Family   Fantasy   Foreign  ...  History  Horror  Music  Mystery  Romance  \\\n",
      "0        1         0         0  ...        0       0      0        0        0   \n",
      "1        1         1         0  ...        0       0      0        0        0   \n",
      "2        0         0         0  ...        0       0      0        0        1   \n",
      "3        0         0         0  ...        0       0      0        0        0   \n",
      "4        0         0         0  ...        0       0      0        0        0   \n",
      "\n",
      "   Science Fiction  TV Movie  Thriller  War  Western  \n",
      "0                0         0         0    0        0  \n",
      "1                0         0         0    0        0  \n",
      "2                0         0         0    0        0  \n",
      "3                0         0         0    0        0  \n",
      "4                0         0         0    0        0  \n",
      "\n",
      "[5 rows x 40 columns]\n",
      "Présence des genres dans df :\n",
      "                         title                      genres  \\\n",
      "0                    Toy Story   Animation, Comedy, Family   \n",
      "1                      Jumanji  Adventure, Fantasy, Family   \n",
      "2             Grumpier Old Men             Romance, Comedy   \n",
      "3            Waiting to Exhale      Comedy, Drama, Romance   \n",
      "4  Father of the Bride Part II                      Comedy   \n",
      "\n",
      "                                            overview  popularity  \\\n",
      "0  Led by Woody, Andy's toys live happily in his ...    2.537846   \n",
      "1  When siblings Judy and Peter discover an encha...    1.844919   \n",
      "2  A family wedding reignites the ancient feud be...    1.099829   \n",
      "3  Cheated on, mistreated and stepped on, the wom...   -0.003677   \n",
      "4  Just when George Banks has recovered from his ...    0.632569   \n",
      "\n",
      "   vote_average   runtime                                           keywords  \\\n",
      "0      1.154466 -0.531985  jealousy, toy, boy, friendship, friends, rival...   \n",
      "1      0.658208  0.178288  board game, disappearance, \"based on childrens...   \n",
      "2      0.410079  0.085644  fishing, best friend, duringcreditsstinger, ol...   \n",
      "3      0.161951  0.888561  based on novel, interracial relationship, sing...   \n",
      "4     -0.086178  0.240051  baby, midlife crisis, confidence, aging, daugh...   \n",
      "\n",
      "                                                cast  \\\n",
      "0  Tom Hanks, Tim Allen, Don Rickles, Jim Varney,...   \n",
      "1  Robin Williams, Jonathan Hyde, Kirsten Dunst, ...   \n",
      "2  Walter Matthau, Jack Lemmon, Ann-Margret, Soph...   \n",
      "3  Whitney Houston, Angela Bassett, Loretta Devin...   \n",
      "4  Steve Martin, Diane Keaton, Martin Short, Kimb...   \n",
      "\n",
      "                      genres_list   Action  ...  Horror  Music  Mystery  \\\n",
      "0   [Animation,  Comedy,  Family]        0  ...       0      0        0   \n",
      "1  [Adventure,  Fantasy,  Family]        0  ...       0      0        0   \n",
      "2              [Romance,  Comedy]        0  ...       0      0        0   \n",
      "3      [Comedy,  Drama,  Romance]        0  ...       0      0        0   \n",
      "4                        [Comedy]        0  ...       0      0        0   \n",
      "\n",
      "   Romance  Science Fiction  TV Movie  Thriller  War  Western  \\\n",
      "0        0                0         0         0    0        0   \n",
      "1        0                0         0         0    0        0   \n",
      "2        1                0         0         0    0        0   \n",
      "3        0                0         0         0    0        0   \n",
      "4        0                0         0         0    0        0   \n",
      "\n",
      "                                      text_embedding  \n",
      "0  [-0.028885882, -0.040720213, 0.08457188, -0.08...  \n",
      "1  [0.012158036, -0.01563346, -0.020215897, -0.01...  \n",
      "2  [-0.11555737, 0.010200933, -0.023194058, -0.07...  \n",
      "3  [-0.07016937, -0.09782038, -0.021666659, 0.043...  \n",
      "4  [-0.033900864, -0.06971271, 0.046093374, 0.025...  \n",
      "\n",
      "[5 rows x 90 columns]\n"
     ]
    }
   ],
   "source": [
    "print(\"Colonnes des genres binaires :\")\n",
    "print(df_genres.head())  # Vérifier les premières lignes de df_genres\n",
    "print(\"Présence des genres dans df :\")\n",
    "print(df.head())  # Vérifier que les colonnes ont bien été fusionnées\n"
   ]
  },
  {
   "cell_type": "code",
   "execution_count": 8,
   "id": "7219538a",
   "metadata": {},
   "outputs": [],
   "source": [
    "# 6️⃣ Fusionner les embeddings, genres et données numériques\n",
    "X = np.concatenate((\n",
    "    np.array(df[\"text_embedding\"].tolist()),  # Embeddings textuels\n",
    "    np.array(df[[\"popularity\", \"vote_average\", \"runtime\"]].values),  # Données numériques standardisées\n",
    "    np.array(df[df_genres.columns].values)  # Genres binaires\n",
    "), axis=1)\n"
   ]
  },
  {
   "cell_type": "code",
   "execution_count": 9,
   "id": "79706e5b",
   "metadata": {},
   "outputs": [
    {
     "name": "stdout",
     "output_type": "stream",
     "text": [
      "✅ Dimensions de X : (29706, 467)\n"
     ]
    }
   ],
   "source": [
    "print(f\"✅ Dimensions de X : {X.shape}\")\n"
   ]
  },
  {
   "cell_type": "code",
   "execution_count": 10,
   "id": "5180a9f3",
   "metadata": {},
   "outputs": [],
   "source": [
    "# 7️⃣ Appliquer K-Means Clustering (100 groupes)\n",
    "num_clusters = 100\n",
    "kmeans = KMeans(n_clusters=num_clusters, random_state=0, n_init=10)\n",
    "df[\"cluster\"] = kmeans.fit_predict(X)"
   ]
  },
  {
   "cell_type": "code",
   "execution_count": null,
   "id": "99c655bb",
   "metadata": {},
   "outputs": [],
   "source": []
  },
  {
   "cell_type": "code",
   "execution_count": 11,
   "id": "62508f6e",
   "metadata": {},
   "outputs": [
    {
     "name": "stdout",
     "output_type": "stream",
     "text": [
      "cluster\n",
      "79    1790\n",
      "59    1528\n",
      "2     1476\n",
      "3     1332\n",
      "37    1223\n",
      "      ... \n",
      "38      15\n",
      "43      12\n",
      "11      11\n",
      "14       3\n",
      "6        1\n",
      "Name: count, Length: 100, dtype: int64\n"
     ]
    }
   ],
   "source": [
    "print(df[\"cluster\"].value_counts())  # Nombre de films par groupe\n"
   ]
  },
  {
   "cell_type": "code",
   "execution_count": 11,
   "id": "174e4095",
   "metadata": {},
   "outputs": [
    {
     "name": "stdout",
     "output_type": "stream",
     "text": [
      "🎬 Films du cluster 5: ['Dream Man', 'The Old Lady Who Walked in the Sea', 'After Image', 'Sweepers', 'Come On, Rangers', 'Live Music', 'Nazty Nuisance', 'My Avatar and Me', 'Find Love', 'Bells of Capistrano']\n"
     ]
    }
   ],
   "source": [
    "cluster_num = 5\n",
    "movies_in_cluster = df[df[\"cluster\"] == cluster_num][\"title\"].tolist()\n",
    "print(f\"🎬 Films du cluster {cluster_num}: {movies_in_cluster[:10]}\")  # Affiche les 10 premiers\n"
   ]
  },
  {
   "cell_type": "code",
   "execution_count": 12,
   "id": "1f3e0d45",
   "metadata": {},
   "outputs": [
    {
     "name": "stdout",
     "output_type": "stream",
     "text": [
      "🎬 Films similaires à 'Inception': ['Star Wars', 'Forrest Gump', \"Schindler's List\", 'DragonHeart', 'The Godfather', '2001: A Space Odyssey', \"One Flew Over the Cuckoo's Nest\", 'Psycho', 'The Godfather: Part II', 'Once Upon a Time in America']\n"
     ]
    }
   ],
   "source": [
    "sample_movie = df[df[\"title\"] == \"Inception\"]\n",
    "predicted_cluster = sample_movie[\"cluster\"].values[0]\n",
    "movies_recommended = df[df[\"cluster\"] == predicted_cluster][\"title\"].tolist()\n",
    "print(f\"🎬 Films similaires à 'Inception': {movies_recommended[:10]}\")\n"
   ]
  },
  {
   "cell_type": "code",
   "execution_count": 13,
   "id": "7380abaf",
   "metadata": {},
   "outputs": [
    {
     "data": {
      "image/png": "[encoded data removed]",
      "text/plain": [
       "<Figure size 1000x600 with 2 Axes>"
      ]
     },
     "metadata": {},
     "output_type": "display_data"
    }
   ],
   "source": [
    "from sklearn.decomposition import PCA\n",
    "import matplotlib.pyplot as plt\n",
    "\n",
    "pca = PCA(n_components=2)\n",
    "X_pca = pca.fit_transform(X)\n",
    "\n",
    "plt.figure(figsize=(10, 6))\n",
    "plt.scatter(X_pca[:, 0], X_pca[:, 1], c=df[\"cluster\"], cmap=\"tab10\", alpha=0.7)\n",
    "plt.colorbar(label=\"Clusters\")\n",
    "plt.title(\"Visualisation des clusters avec PCA\")\n",
    "plt.show()\n"
   ]
  },
  {
   "cell_type": "code",
   "execution_count": 16,
   "id": "c62b9a95",
   "metadata": {},
   "outputs": [
    {
     "name": "stdout",
     "output_type": "stream",
     "text": [
      "\n",
      "🎬 Films recommandés pour 'Toy Story':\n",
      "👉 Toy Story 3 (Score: 0.64)\n",
      "👉 Toy Story 2 (Score: 0.62)\n",
      "👉 Monsters, Inc. (Score: 0.47)\n",
      "👉 Zootopia (Score: 0.44)\n",
      "👉 E.T. the Extra-Terrestrial (Score: 0.44)\n"
     ]
    }
   ],
   "source": [
    "def get_movie_recommendations(df):\n",
    "    user_movie = input(\"🎬 Entrez le titre du film que vous aimez : \")\n",
    "    \n",
    "    if user_movie not in df[\"title\"].values:\n",
    "        print(\"❌ Désolé, ce film n'est pas dans la base de données.\")\n",
    "        return\n",
    "    \n",
    "    user_cluster = df[df[\"title\"] == user_movie][\"cluster\"].values[0]\n",
    "    cluster_df = df[df[\"cluster\"] == user_cluster].copy()\n",
    "\n",
    "    user_embedding = df[df[\"title\"] == user_movie][\"text_embedding\"].values[0]\n",
    "    \n",
    "    if isinstance(user_embedding, float):  \n",
    "        print(f\"❌ Pas d'embedding disponible pour '{user_movie}'.\")\n",
    "        return\n",
    "    \n",
    "    similarities = cosine_similarity([user_embedding], np.array(cluster_df[\"text_embedding\"].tolist()))[0]\n",
    "    \n",
    "    cluster_df[\"similarity_score\"] = similarities\n",
    "    cluster_df[\"popularity_norm\"] = cluster_df[\"popularity\"] / cluster_df[\"popularity\"].max()\n",
    "    cluster_df[\"vote_norm\"] = cluster_df[\"vote_average\"] / cluster_df[\"vote_average\"].max()\n",
    "    cluster_df[\"runtime_norm\"] = cluster_df[\"runtime\"] / cluster_df[\"runtime\"].max()\n",
    "\n",
    "    cluster_df[\"score\"] = (\n",
    "        0.50 * cluster_df[\"similarity_score\"] +\n",
    "        0.20 * cluster_df[\"popularity_norm\"] +\n",
    "        0.20 * cluster_df[\"vote_norm\"] +\n",
    "        0.10 * cluster_df[\"runtime_norm\"]\n",
    "    )\n",
    "\n",
    "    sorted_movies = cluster_df.sort_values(\"score\", ascending=False)[[\"title\", \"score\"]]\n",
    "    top_movies = sorted_movies[sorted_movies[\"title\"] != user_movie].head(5)\n",
    "\n",
    "    print(f\"\\n🎬 Films recommandés pour '{user_movie}':\")\n",
    "    for _, row in top_movies.iterrows():\n",
    "        print(f\"👉 {row['title']} (Score: {row['score']:.2f})\")\n",
    "\n",
    "# Exécuter la fonction\n",
    "get_movie_recommendations(df)\n",
    "\n"
   ]
  },
  {
   "cell_type": "code",
   "execution_count": 17,
   "id": "299370b0",
   "metadata": {},
   "outputs": [
    {
     "name": "stdout",
     "output_type": "stream",
     "text": [
      "✅ Modèle K-Means sauvegardé avec succès ! 📂\n"
     ]
    }
   ],
   "source": [
    "import joblib\n",
    "\n",
    "# 📂 Sauvegarde du modèle K-Means\n",
    "joblib.dump(kmeans, \"kmeans_model.pkl\")\n",
    "print(\"✅ Modèle K-Means sauvegardé avec succès ! 📂\")\n"
   ]
  },
  {
   "cell_type": "code",
   "execution_count": 18,
   "id": "f23d78a2",
   "metadata": {},
   "outputs": [
    {
     "name": "stdout",
     "output_type": "stream",
     "text": [
      "✅ Fichier 'movie_data.csv' sauvegardé avec succès !\n"
     ]
    }
   ],
   "source": [
    "df.to_csv(\"movie_data.csv\", index=False)\n",
    "print(\"✅ Fichier 'movie_data.csv' sauvegardé avec succès !\")\n"
   ]
  },
  {
   "cell_type": "code",
   "execution_count": 19,
   "id": "bbe984c7",
   "metadata": {},
   "outputs": [
    {
     "name": "stdout",
     "output_type": "stream",
     "text": [
      "      title                                     text_embedding\n",
      "5      Heat  [0.003090151, -0.11548835, -0.079643115, -0.06...\n",
      "12194  Heat  [-0.07012973, -0.06617549, 0.004856588, 0.0129...\n"
     ]
    }
   ],
   "source": [
    "print(df[df[\"title\"] == \"Heat\"][[\"title\", \"text_embedding\"]])\n",
    "\n",
    "\n"
   ]
  },
  {
   "cell_type": "code",
   "execution_count": null,
   "id": "496690a0",
   "metadata": {},
   "outputs": [],
   "source": [
    "import streamlit as st\n",
    "import joblib\n",
    "\n",
    "@st.cache_resource\n",
    "def load_model():\n",
    "    return joblib.load(\"kmeans_model.pkl\")\n",
    "\n",
    "kmeans_model = load_model()\n",
    "\n",
    "st.title(\"🎬 Recommandation de Films\")\n",
    "user_movie = st.text_input(\"🔍 Entrez un film :\")\n",
    "\n",
    "if st.button(\"Recommander\"):\n",
    "    if user_movie:\n",
    "        cluster = kmeans_model.predict(df[[\"popularity\", \"vote_average\"]])\n",
    "        st.success(f\"✅ Ce film appartient au cluster {cluster[0]}\")\n",
    "    else:\n",
    "        st.warning(\"⚠️ Veuillez entrer un film valide.\")\n"
   ]
  },
  {
   "cell_type": "code",
   "execution_count": 9,
   "id": "220db2fb",
   "metadata": {},
   "outputs": [],
   "source": [
    "# 9️⃣ Fonction de recommandation avec gestion des erreurs\n",
    "def recommend_movies_weighted(user_movie, df):\n",
    "    if user_movie not in df[\"title\"].values:\n",
    "        print(\"❌ Désolé, ce film n'est pas dans la base de données.\")\n",
    "        return\n",
    "    \n",
    "    user_cluster = df[df[\"title\"] == user_movie][\"cluster\"].values[0]\n",
    "    cluster_df = df[df[\"cluster\"] == user_cluster].copy()\n",
    "\n",
    "    user_embedding = df[df[\"title\"] == user_movie][\"text_embedding\"].values[0]\n",
    "    \n",
    "    # Vérifier que les embeddings ne sont pas vides\n",
    "    if isinstance(user_embedding, float):  \n",
    "        print(f\"❌ Pas d'embedding disponible pour '{user_movie}'.\")\n",
    "        return\n",
    "    \n",
    "    similarities = cosine_similarity([user_embedding], np.array(cluster_df[\"text_embedding\"].tolist()))[0]\n",
    "\n",
    "    cluster_df[\"popularity_norm\"] = cluster_df[\"popularity\"] / cluster_df[\"popularity\"].max()\n",
    "    cluster_df[\"vote_norm\"] = cluster_df[\"vote_average\"] / cluster_df[\"vote_average\"].max()\n",
    "    cluster_df[\"runtime_norm\"] = cluster_df[\"runtime\"] / cluster_df[\"runtime\"].max()\n",
    "\n",
    "    cluster_df[\"score\"] = (\n",
    "        0.50 * similarities +\n",
    "        0.20 * cluster_df[\"popularity_norm\"] +\n",
    "        0.20 * cluster_df[\"vote_norm\"] +\n",
    "        0.10 * cluster_df[\"runtime_norm\"]\n",
    "    )\n",
    "\n",
    "    sorted_movies = cluster_df.sort_values(\"score\", ascending=False)[[\"title\", \"score\"]]\n",
    "    top_movies = sorted_movies[sorted_movies[\"title\"] != user_movie].head(5)\n",
    "\n",
    "    print(f\"\\n🎬 Films recommandés pour '{user_movie}':\")\n",
    "    for _, row in top_movies.iterrows():\n",
    "        print(f\"👉 {row['title']} (Score: {row['score']:.2f})\")"
   ]
  },
  {
   "cell_type": "code",
   "execution_count": 34,
   "id": "038a7ddb",
   "metadata": {},
   "outputs": [
    {
     "name": "stdout",
     "output_type": "stream",
     "text": [
      "0    [-0.028885882, -0.040720213, 0.08457188, -0.08...\n",
      "1    [0.012158036, -0.01563346, -0.020215897, -0.01...\n",
      "2    [-0.11555737, 0.010200933, -0.023194058, -0.07...\n",
      "3    [-0.07016937, -0.09782038, -0.021666659, 0.043...\n",
      "4    [-0.033900864, -0.06971271, 0.046093374, 0.025...\n",
      "Name: text_embedding, dtype: object\n"
     ]
    }
   ],
   "source": [
    "print(df[\"text_embedding\"].head())  # Vérifier la structure des embeddings\n"
   ]
  },
  {
   "cell_type": "markdown",
   "id": "f8807e60",
   "metadata": {},
   "source": [
    "# hahowa fach kanbkhi nexcute bmodéle sauvegardé makibkhich"
   ]
  },
  {
   "cell_type": "code",
   "execution_count": null,
   "id": "d3835a8a",
   "metadata": {},
   "outputs": [
    {
     "name": "stdout",
     "output_type": "stream",
     "text": [
      "📂 Chargement du modèle et des données...\n"
     ]
    }
   ],
   "source": [
    "import joblib\n",
    "import pandas as pd\n",
    "import numpy as np\n",
    "from sklearn.metrics.pairwise import cosine_similarity\n",
    "import ast  # Importer AST pour une conversion sécurisée\n",
    "\n",
    "# 🔹 Charger le modèle et les données\n",
    "def load_model_and_data():\n",
    "    print(\"📂 Chargement du modèle et des données...\")\n",
    "    kmeans_loaded = joblib.load(\"kmeans_model.pkl\")\n",
    "    df = pd.read_csv(\"movie_data.csv\")\n",
    "\n",
    "    # 🔍 Vérifier la structure des embeddings\n",
    "    print(\"✅ Vérification des données...\")\n",
    "    print(df[\"text_embedding\"].head(10))  # Vérifie les premières valeurs\n",
    "\n",
    "    # 🔹 Nettoyer les données avant la conversion\n",
    "    df = df[df[\"text_embedding\"].notna()]  # Supprimer les NaN\n",
    "    df[\"text_embedding\"] = df[\"text_embedding\"].astype(str)  # Convertir en chaîne\n",
    "    df = df[df[\"text_embedding\"] != \"None\"]\n",
    "    df = df[df[\"text_embedding\"] != \"NULL\"]\n",
    "\n",
    "    # 🔹 Convertir les embeddings en tableaux NumPy (corrigé avec `ast.literal_eval`)\n",
    "    def clean_embedding(x):\n",
    "        try:\n",
    "            return np.array(ast.literal_eval(x)) if isinstance(x, str) else x\n",
    "        except:\n",
    "            print(f\"❌ Erreur de conversion pour : {x}\")\n",
    "            return None  # Garde uniquement les valeurs valides\n",
    "    \n",
    "    df[\"text_embedding\"] = df[\"text_embedding\"].apply(clean_embedding)\n",
    "    df = df[df[\"text_embedding\"].notna()]  # Supprimer les erreurs\n",
    "\n",
    "    print(\"✅ Modèle et données chargés avec succès !\")\n",
    "    return kmeans_loaded, df\n",
    "\n",
    "# 🔹 Fonction de recommandation avec test utilisateur\n",
    "def get_movie_recommendations(df):\n",
    "    user_movie = input(\"🎬 Entrez le titre du film que vous aimez : \")\n",
    "    \n",
    "    if user_movie not in df[\"title\"].values:\n",
    "        print(f\"❌ Désolé, '{user_movie}' n'est pas dans la base de données.\")\n",
    "        return\n",
    "    \n",
    "    user_cluster = df[df[\"title\"] == user_movie][\"cluster\"].values[0]\n",
    "    cluster_df = df[df[\"cluster\"] == user_cluster].copy()\n",
    "\n",
    "    user_embedding = df[df[\"title\"] == user_movie][\"text_embedding\"].values[0]\n",
    "    \n",
    "    if isinstance(user_embedding, float):  \n",
    "        print(f\"❌ Pas d'embedding disponible pour '{user_movie}'.\")\n",
    "        return\n",
    "    \n",
    "    similarities = cosine_similarity([user_embedding], np.array(cluster_df[\"text_embedding\"].tolist()))[0]\n",
    "    \n",
    "    cluster_df[\"similarity_score\"] = similarities\n",
    "    cluster_df[\"popularity_norm\"] = cluster_df[\"popularity\"] / cluster_df[\"popularity\"].max()\n",
    "    cluster_df[\"vote_norm\"] = cluster_df[\"vote_average\"] / cluster_df[\"vote_average\"].max()\n",
    "    cluster_df[\"runtime_norm\"] = cluster_df[\"runtime\"] / cluster_df[\"runtime\"].max()\n",
    "\n",
    "    cluster_df[\"score\"] = (\n",
    "        0.50 * cluster_df[\"similarity_score\"] +\n",
    "        0.20 * cluster_df[\"popularity_norm\"] +\n",
    "        0.20 * cluster_df[\"vote_norm\"] +\n",
    "        0.10 * cluster_df[\"runtime_norm\"]\n",
    "    )\n",
    "\n",
    "    sorted_movies = cluster_df.sort_values(\"score\", ascending=False)[[\"title\", \"score\"]]\n",
    "    top_movies = sorted_movies[sorted_movies[\"title\"] != user_movie].head(5)\n",
    "\n",
    "    print(f\"\\n🎬 Films recommandés pour '{user_movie}':\")\n",
    "    for _, row in top_movies.iterrows():\n",
    "        print(f\"👉 {row['title']} (Score: {row['score']:.2f})\")\n",
    "\n",
    "# 🔹 Charger le modèle et les données avant exécution\n",
    "kmeans_loaded, df = load_model_and_data()\n",
    "\n",
    "# 🔹 Exécuter la fonction de test\n",
    "get_movie_recommendations(df)\n"
   ]
  }
 ],
 "metadata": {
  "kernelspec": {
   "display_name": "Python 3",
   "language": "python",
   "name": "python3"
  },
  "language_info": {
   "codemirror_mode": {
    "name": "ipython",
    "version": 3
   },
   "file_extension": ".py",
   "mimetype": "text/x-python",
   "name": "python",
   "nbconvert_exporter": "python",
   "pygments_lexer": "ipython3",
   "version": "3.11.5"
  }
 },
 "nbformat": 4,
 "nbformat_minor": 5
}
